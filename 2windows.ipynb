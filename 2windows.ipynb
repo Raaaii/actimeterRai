{
 "cells": [
  {
   "cell_type": "code",
   "execution_count": 1,
   "metadata": {},
   "outputs": [
    {
     "name": "stderr",
     "output_type": "stream",
     "text": [
      "QSocketNotifier: Can only be used with threads started with QThread\n"
     ]
    },
    {
     "data": {
      "text/plain": [
       "0"
      ]
     },
     "execution_count": 1,
     "metadata": {},
     "output_type": "execute_result"
    }
   ],
   "source": [
    "import sys\n",
    "from random import randint\n",
    "\n",
    "from PyQt5.QtWidgets import (\n",
    "    QApplication,\n",
    "    QLabel,\n",
    "    QMainWindow,\n",
    "    QPushButton,\n",
    "    QVBoxLayout,\n",
    "    QWidget,\n",
    ")\n",
    "\n",
    "\n",
    "class AnotherWindow(QWidget):\n",
    "    \"\"\"\n",
    "    This \"window\" is a QWidget. If it has no parent,\n",
    "    it will appear as a free-floating window.\n",
    "    \"\"\"\n",
    "\n",
    "    def __init__(self):\n",
    "        super().__init__()\n",
    "        layout = QVBoxLayout()\n",
    "        self.label = QLabel(\"Another Window % d\" % randint(0, 100))\n",
    "        layout.addWidget(self.label)\n",
    "        self.setLayout(layout)\n",
    "\n",
    "\n",
    "class MainWindow(QMainWindow):\n",
    "    def __init__(self):\n",
    "        super().__init__()\n",
    "        self.window1 = AnotherWindow()\n",
    "        self.window2 = AnotherWindow()\n",
    "\n",
    "        l = QVBoxLayout()\n",
    "        button1 = QPushButton(\"Push for Window 1\")\n",
    "        button1.clicked.connect(self.toggle_window1)\n",
    "        l.addWidget(button1)\n",
    "\n",
    "        button2 = QPushButton(\"Push for Window 2\")\n",
    "        button2.clicked.connect(self.toggle_window2)\n",
    "        l.addWidget(button2)\n",
    "\n",
    "        w = QWidget()\n",
    "        w.setLayout(l)\n",
    "        self.setCentralWidget(w)\n",
    "\n",
    "    def toggle_window1(self, checked):\n",
    "        if self.window1.isVisible():\n",
    "            self.window1.hide()\n",
    "\n",
    "        else:\n",
    "            self.window1.show()\n",
    "\n",
    "    def toggle_window2(self, checked):\n",
    "        if self.window2.isVisible():\n",
    "            self.window2.hide()\n",
    "\n",
    "        else:\n",
    "            self.window2.show()\n",
    "\n",
    "\n",
    "app = QApplication(sys.argv)\n",
    "w = MainWindow()\n",
    "w.show()\n",
    "app.exec()"
   ]
  }
 ],
 "metadata": {
  "kernelspec": {
   "display_name": "Python 3.10.6 64-bit",
   "language": "python",
   "name": "python3"
  },
  "language_info": {
   "codemirror_mode": {
    "name": "ipython",
    "version": 3
   },
   "file_extension": ".py",
   "mimetype": "text/x-python",
   "name": "python",
   "nbconvert_exporter": "python",
   "pygments_lexer": "ipython3",
   "version": "3.10.6"
  },
  "orig_nbformat": 4,
  "vscode": {
   "interpreter": {
    "hash": "916dbcbb3f70747c44a77c7bcd40155683ae19c65e1c03b4aa3499c5328201f1"
   }
  }
 },
 "nbformat": 4,
 "nbformat_minor": 2
}
